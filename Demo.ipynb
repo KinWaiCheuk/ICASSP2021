{
 "cells": [
  {
   "cell_type": "markdown",
   "metadata": {},
   "source": [
    "# Revisiting Onsets and Frames Model with Additive Attention Mechanism\n",
    "\n",
    "## Model Archetecture\n",
    "![](demo/model.png)\n",
    "\n",
    "## Attention Maps\n",
    "\n",
    "### Onsets and Frames Model with Attention D=30\n",
    "\n",
    "This is Figure 2 in the paper. Right click and view each image in full resolution in the new tab. \n",
    "\n",
    "![](demo/OnsetsFrames_attn/spec_map.png)\n",
    "![](demo/OnsetsFrames_attn/onset_map.png)\n",
    "![](demo/OnsetsFrames_attn/feat_map.png)\n",
    "\n",
    "Row 1: Attedning on $\\boldsymbol{x_{\\text{spec}}} \\in [0,1]^{T\\times N}$<br/>\n",
    "Row 2: Attedning on $\\boldsymbol{x_{\\text{onset}}} \\in [0,1]^{T\\times 88}$<br/>\n",
    "Row 3: Attedning on $\\boldsymbol{x_{\\text{feat}}} \\in [0,1]^{T\\times 88}$\n",
    "\n",
    "### Onsets and Frames Model with Varying Attention Size\n",
    "From top row to bottom row: D=60, D=30, D=20, D=5\n",
    "\n",
    "![](demo/OnsetsFrames_attn/spec_map_D60.png) \n",
    "![](demo/OnsetsFrames_attn/spec_map.png)\n",
    "![](demo/OnsetsFrames_attn/spec_map_D20.png)\n",
    "![](demo/OnsetsFrames_attn/spec_map_D05.png) \n",
    "\n",
    "### Linear Model with Varying Attention Size\n",
    "![](demo/Linear/D30.png) \n",
    "![](demo/Linear/D20.png)\n",
    "![](demo/Linear/D10.png)\n",
    "![](demo/Linear/D05.png)"
   ]
  },
  {
   "cell_type": "markdown",
   "metadata": {},
   "source": [
    "## Transcription Results"
   ]
  },
  {
   "cell_type": "markdown",
   "metadata": {},
   "source": [
    "### Original Audio\n",
    "\n",
    "Ground Truth 1: <audio src=\"demo/Audio/label1.wav\" controls>alternative text</audio><br/>\n",
    "Ground Truth 2: <audio src=\"demo/Audio/label2.wav\" controls>alternative text</audio><br/>\n",
    "Ground Truth 3: <audio src=\"demo/Audio/label3.wav\" controls>alternative text</audio><br/>\n",
    "Ground Truth 4: <audio src=\"demo/Audio/label4.wav\" controls>alternative text</audio>"
   ]
  },
  {
   "cell_type": "markdown",
   "metadata": {},
   "source": [
    "### Onsets & Frames\n",
    "\n",
    "Spec1: <audio src=\"demo/Original_model/1.wav\" controls>alternative text</audio><br/>\n",
    "Spec2: <audio src=\"demo/Original_model/2.wav\" controls>alternative text</audio><br/>\n",
    "Spec3: <audio src=\"demo/Original_model/3.wav\" controls>alternative text</audio><br/>\n",
    "Spec4: <audio src=\"demo/Original_model/4.wav\" controls>alternative text</audio>\n",
    "\n",
    "### Onsets & Frames without inference\n",
    "\n",
    "Spec1: <audio src=\"demo/Original_model_no_inference/1.wav\" controls>alternative text</audio><br/>\n",
    "Spec2: <audio src=\"demo/Original_model_no_inference/2.wav\" controls>alternative text</audio><br/>\n",
    "Spec3: <audio src=\"demo/Original_model_no_inference/3.wav\" controls>alternative text</audio><br/>\n",
    "Spec4: <audio src=\"demo/Original_model_no_inference/4.wav\" controls>alternative text</audio>\n",
    "\n",
    "### Onsets & Frames Attention version\n",
    "\n",
    "Spec1: <audio src=\"demo/OnsetsFrames_attn/1.wav\" controls>alternative text</audio><br/>\n",
    "Spec2: <audio src=\"demo/OnsetsFrames_attn/2.wav\" controls>alternative text</audio><br/>\n",
    "Spec3: <audio src=\"demo/OnsetsFrames_attn/3.wav\" controls>alternative text</audio><br/>\n",
    "Spec4: <audio src=\"demo/OnsetsFrames_attn/4.wav\" controls>alternative text</audio>\n",
    "\n",
    "### Onsets & Frames Attention version without inference\n",
    "\n",
    "Spec1: <audio src=\"demo/OnsetsFrames_attn_no_inference/1.wav\" controls>alternative text</audio><br/>\n",
    "Spec2: <audio src=\"demo/OnsetsFrames_attn_no_inference/2.wav\" controls>alternative text</audio><br/>\n",
    "Spec3: <audio src=\"demo/OnsetsFrames_attn_no_inference/3.wav\" controls>alternative text</audio><br/>\n",
    "Spec4: <audio src=\"demo/OnsetsFrames_attn_no_inference/4.wav\" controls>alternative text</audio>\n",
    "\n",
    "### Linear with inference\n",
    "\n",
    "Spec1: <audio src=\"demo/Linear_attn_5/1.wav\" controls>alternative text</audio><br/>\n",
    "Spec2: <audio src=\"demo/Linear_attn_5/2.wav\" controls>alternative text</audio><br/>\n",
    "Spec3: <audio src=\"demo/Linear_attn_5/3.wav\" controls>alternative text</audio><br/>\n",
    "Spec4: <audio src=\"demo/Linear_attn_5/4.wav\" controls>alternative text</audio>\n",
    "\n",
    "### Linear without inference\n",
    "\n",
    "Spec1: <audio src=\"demo/Linear_attn_5_no_inference/1.wav\" controls>alternative text</audio><br/>\n",
    "Spec2: <audio src=\"demo/Linear_attn_5_no_inference/2.wav\" controls>alternative text</audio><br/>\n",
    "Spec3: <audio src=\"demo/Linear_attn_5_no_inference/3.wav\" controls>alternative text</audio><br/>\n",
    "Spec4: <audio src=\"demo/Linear_attn_5_no_inference/4.wav\" controls>alternative text</audio>"
   ]
  }
 ],
 "metadata": {
  "kernelspec": {
   "display_name": "Python 3",
   "language": "python",
   "name": "python3"
  },
  "language_info": {
   "codemirror_mode": {
    "name": "ipython",
    "version": 3
   },
   "file_extension": ".py",
   "mimetype": "text/x-python",
   "name": "python",
   "nbconvert_exporter": "python",
   "pygments_lexer": "ipython3",
   "version": "3.6.8"
  }
 },
 "nbformat": 4,
 "nbformat_minor": 2
}
